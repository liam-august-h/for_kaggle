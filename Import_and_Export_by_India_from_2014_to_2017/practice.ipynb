{
 "cells": [
  {
   "cell_type": "markdown",
   "metadata": {},
   "source": [
    "# Import and Export by India from 2014 to 2017"
   ]
  },
  {
   "cell_type": "markdown",
   "metadata": {},
   "source": [
    "To better understand the imports and exports by India. Some of questions I would like to be answered are\n",
    "\n",
    "- Top countries by growth percentage.\n",
    "- Top commodity by quantity or value.\n",
    "- YoY growth of export and import.\n",
    "\n",
    "The whole dataset is about import and export data available by principle commodity and country wise for 3 years from Apr'2014 to Mar'2017."
   ]
  },
  {
   "cell_type": "code",
   "execution_count": 1,
   "metadata": {
    "collapsed": true
   },
   "outputs": [],
   "source": [
    "import numpy as np\n",
    "import pandas as pd\n",
    "import matplotlib.pyplot as plt"
   ]
  },
  {
   "cell_type": "code",
   "execution_count": 2,
   "metadata": {
    "collapsed": true
   },
   "outputs": [],
   "source": [
    "%matplotlib inline"
   ]
  },
  {
   "cell_type": "markdown",
   "metadata": {},
   "source": [
    "## loading data"
   ]
  },
  {
   "cell_type": "code",
   "execution_count": 60,
   "metadata": {},
   "outputs": [
    {
     "name": "stdout",
     "output_type": "stream",
     "text": [
      "  pc_code     pc_description unit  country_code  country_name  quantity  \\\n",
      "0      99  Other Commodities   Na           599   Unspecified       NaN   \n",
      "1      99  Other Commodities   Na          1213         Kenya       NaN   \n",
      "2      99  Other Commodities   Na          1395  Tanzania Rep       NaN   \n",
      "3      99  Other Commodities   Na          1417        Uganda       NaN   \n",
      "4      99  Other Commodities   Na          2035         Benin       NaN   \n",
      "\n",
      "        value  \n",
      "0  371.280801  \n",
      "1   18.251164  \n",
      "2   21.844100  \n",
      "3    8.034605  \n",
      "4    1.812666  \n",
      "  pc_code     pc_description unit  country_code  country_name  quantity  \\\n",
      "0      99  Other Commodities   Na           599   Unspecified       NaN   \n",
      "1      99  Other Commodities   Na          1213         Kenya       NaN   \n",
      "2      99  Other Commodities   Na          1395  Tanzania Rep       NaN   \n",
      "3      99  Other Commodities   Na          1417        Uganda       NaN   \n",
      "4      99  Other Commodities   Na          2035         Benin       NaN   \n",
      "\n",
      "         value  \n",
      "0  6925.755648  \n",
      "1     4.977579  \n",
      "2     3.859614  \n",
      "3     0.006412  \n",
      "4     1.030157  \n"
     ]
    }
   ],
   "source": [
    "data_ep_2014 = pd.read_csv(\"dataset/PC_Export_2014_2015.csv\")\n",
    "data_ip_2014 = pd.read_csv(\"dataset/PC_Import_2014_2015.csv\")\n",
    "data_ep_2015 = pd.read_csv(\"dataset/PC_Export_2015_2016.csv\")\n",
    "data_ip_2015 = pd.read_csv(\"dataset/PC_Import_2015_2016.csv\")\n",
    "data_ep_2016 = pd.read_csv(\"dataset/PC_Export_2016_2017.csv\")\n",
    "data_ip_2016 = pd.read_csv(\"dataset/PC_Import_2016_2017.csv\")\n",
    "\n",
    "print data_ep_2014.head()\n",
    "print data_ip_2014.head()"
   ]
  },
  {
   "cell_type": "markdown",
   "metadata": {},
   "source": [
    "> Column Descriptions:  \n",
    "- pc_code: Integer, Principal Commodity Code \n",
    "- pc: String, Principal Commodity Name\n",
    "- unit: String, measurement of quantity\n",
    "- country_code: Integer, country code\n",
    "- country_name: String, country name\n",
    "- quantity: Integer, quantify of export or import\n",
    "- value: Integer, monetary valeu of the quantity (in million USD)"
   ]
  },
  {
   "cell_type": "code",
   "execution_count": 61,
   "metadata": {
    "collapsed": true
   },
   "outputs": [],
   "source": [
    "# to merge all in one\n",
    "columns = data_ep_2014.columns.append(pd.Index(['year', 'export_import']))"
   ]
  },
  {
   "cell_type": "code",
   "execution_count": 62,
   "metadata": {},
   "outputs": [
    {
     "name": "stdout",
     "output_type": "stream",
     "text": [
      "      pc_code                  pc_description unit  country_code country_name  \\\n",
      "38903      P9  Oth Txtl Yrn, Fbric Mdup Artcl   Na         15352       Serbia   \n",
      "5011       F8                Finished Leather  Kgs         12239        Macao   \n",
      "74180      G5  Pearl, Precs, Semiprecs Stones   Na          7171       Guyana   \n",
      "10888      K7             Packaging Materials  Ton          8091   Costa Rica   \n",
      "60717      Q8              Rmg Manmade Fibres   Na         13421          U K   \n",
      "45994      F2          Bulk Minerals And Ores   Na          9103  Dominic Rep   \n",
      "8342       I7  Residul Chemicl And Alled Prod   Na          6427      Uruguay   \n",
      "\n",
      "       quantity       value  year  export_import  \n",
      "38903       NaN    0.109618  2015              1  \n",
      "5011       44.0    0.006654  2014              1  \n",
      "74180       NaN    1.084772  2015              2  \n",
      "10888     322.0    1.133218  2014              1  \n",
      "60717       NaN  408.071158  2016              1  \n",
      "45994       NaN    0.114298  2016              1  \n",
      "8342        NaN    2.514773  2014              1  \n"
     ]
    }
   ],
   "source": [
    "# export_import field, 1 means export, 2 means import\n",
    "data_ep_2014 = data_ep_2014.assign(year=2014).assign(export_import=1)\n",
    "data_ip_2014 = data_ip_2014.assign(year=2014).assign(export_import=2)\n",
    "data_ep_2015 = data_ep_2015.assign(year=2015).assign(export_import=1)\n",
    "data_ip_2015 = data_ip_2015.assign(year=2015).assign(export_import=2)\n",
    "data_ep_2016 = data_ep_2016.assign(year=2016).assign(export_import=1)\n",
    "data_ip_2016 = data_ip_2016.assign(year=2016).assign(export_import=2)\n",
    "\n",
    "data = pd.DataFrame(columns=columns)\n",
    "data = reduce(lambda x, y: x.append(y, ignore_index=True), [\n",
    "    data_ep_2014, data_ep_2015, data_ep_2016,\n",
    "    data_ip_2014, data_ip_2015, data_ip_2016,\n",
    "])\n",
    "\n",
    "print data.sample(n=7)"
   ]
  },
  {
   "cell_type": "markdown",
   "metadata": {},
   "source": [
    "## Exploration"
   ]
  },
  {
   "cell_type": "code",
   "execution_count": 84,
   "metadata": {},
   "outputs": [],
   "source": [
    "data['unit'] = map(lambda x : None if x == 'Na' else x, data['unit'])"
   ]
  },
  {
   "cell_type": "code",
   "execution_count": 85,
   "metadata": {},
   "outputs": [],
   "source": [
    "missing_value = map(lambda x : sum(data[x].isnull()), data.columns)"
   ]
  },
  {
   "cell_type": "code",
   "execution_count": 90,
   "metadata": {},
   "outputs": [
    {
     "name": "stdout",
     "output_type": "stream",
     "text": [
      "there are 91440 observations and 9 features\n",
      "   missing            name\n",
      "0        0         pc_code\n",
      "1        0  pc_description\n",
      "2    48520            unit\n",
      "3        0    country_code\n",
      "4        0    country_name\n",
      "5    48523        quantity\n",
      "6        0           value\n",
      "7        0            year\n",
      "8        0   export_import\n"
     ]
    }
   ],
   "source": [
    "print \"there are {} observations and {} features\".format(data.shape[0], data.shape[1])\n",
    "print(pd.DataFrame({'name':data.columns, 'missing':missing_value}))"
   ]
  },
  {
   "cell_type": "code",
   "execution_count": 75,
   "metadata": {},
   "outputs": [
    {
     "name": "stdout",
     "output_type": "stream",
     "text": [
      "pc_code value range is ['99' 'A1' 'A2' 'A3' 'A4' 'A5' 'A6' 'A7' 'A8' 'A9' 'B1' 'B2' 'B3' 'B4' 'B5'\n",
      " 'B6' 'B7' 'B8' 'B9' 'C1' 'C2' 'C3' 'C4' 'C5' 'C6' 'C7' 'C8' 'C9' 'D1' 'D2'\n",
      " 'D3' 'D4' 'D5' 'D6' 'D7' 'D8' 'D9' 'E1' 'E2' 'E3' 'E4' 'E5' 'E6' 'E7' 'E8'\n",
      " 'E9' 'F1' 'F2' 'F3' 'F4' 'F5' 'F6' 'F7' 'F8' 'F9' 'G1' 'G2' 'G3' 'G4' 'G5'\n",
      " 'G6' 'G7' 'G8' 'G9' 'H1' 'H2' 'H3' 'H4' 'H5' 'H6' 'H7' 'H8' 'H9' 'I1' 'I2'\n",
      " 'I3' 'I4' 'I5' 'I6' 'I7' 'I8' 'I9' 'J1' 'J2' 'J3' 'J4' 'J5' 'J6' 'J7' 'J8'\n",
      " 'J9' 'K1' 'K2' 'K3' 'K4' 'K5' 'K6' 'K7' 'K8' 'K9' 'L1' 'L2' 'L3' 'L4' 'L5'\n",
      " 'L6' 'L7' 'L8' 'L9' 'M1' 'M2' 'M3' 'M4' 'M5' 'M6' 'M7' 'M8' 'M9' 'N1' 'N2'\n",
      " 'N3' 'N4' 'N5' 'N6' 'N7' 'N8' 'N9' 'O1' 'O2' 'O3' 'O4' 'O5' 'O6' 'O7' 'O8'\n",
      " 'O9' 'P1' 'P2' 'P3' 'P4' 'P5' 'P6' 'P7' 'P8' 'P9' 'Q1' 'Q2' 'Q3' 'Q4' 'Q5'\n",
      " 'Q6' 'Q7' 'Q8' 'Q9' 'R1' 'R2' 'R3' 'R4' 'R5' 'R6' 'R7' 'R8' 'R9' 'S1' 'S2'\n",
      " 'S3' 'S4' 'S6' 'S5']\n"
     ]
    }
   ],
   "source": [
    "print \"pc_code value range is \" + str(data['pc_code'].unique())"
   ]
  },
  {
   "cell_type": "code",
   "execution_count": 91,
   "metadata": {},
   "outputs": [
    {
     "name": "stdout",
     "output_type": "stream",
     "text": [
      "unit value range is [None 'Kgs' 'Ton' 'Ltr' 'Nos' 'Sqm']\n"
     ]
    }
   ],
   "source": [
    "print \"unit value range is \" + str(data['unit'].unique())"
   ]
  },
  {
   "cell_type": "code",
   "execution_count": 92,
   "metadata": {},
   "outputs": [
    {
     "name": "stdout",
     "output_type": "stream",
     "text": [
      "country_code value range is [  599  1213  1395  1417  2035  2050  2057  2067  2069  2087  2141  2199\n",
      "  2241  2255  2257  2289  2345  2353  2399  2459  3011  3041  3053  3063\n",
      "  3085  3102  3115  3116  3117  3143  3149  3167  3169  3227  3229  3243\n",
      "  3249  3267  3269  3291  3339  3349  3355  3357  3363  3371  3385  3461\n",
      "  4005  4111  4231  4265  4365  4381  4407  4463  5059  5423  6015  6039\n",
      "  6043  6073  6083  6109  6317  6319  6427  6433  7012  7013  7020  7023\n",
      "  7029  7031  7105  7159  7171  7203  7373  7375  7379  7405  8091  8113\n",
      "  8165  8177  8287  9037  9045  9065  9093  9103  9161  9175  9253  9259\n",
      "  9277  9311  9331  9383  9439 10001 10017 10027 10038 10047 10056 10077\n",
      " 10089 10127 10179 10187 10189 10205 10214 10217 10223 10245 10252 10256\n",
      " 10258 10261 10273 10285 10309 10315 10323 10359 10361 10369 10397 10403\n",
      " 10437 10447 11025 11191 11207 11219 11225 11301 11335 11351 11391 11419\n",
      " 11453 12075 12133 12163 12195 12215 12239 12247 12281 12329 12401 12431\n",
      " 13019 13033 13101 13125 13129 13147 13155 13193 13197 13235 13262 13275\n",
      " 13327 13367 13387 13421 14185 14297 14389 15003 15016 15021 15040 15049\n",
      " 15055 15092 15098 15114 15145 15181 15212 15216 15224 15234 15240 15260\n",
      " 15325 15343 15344 15352 15354 15356 15358 15360 15393 15410 15422 15430\n",
      " 16095 16151 16251 16409 16233 10413  3347  5424  5377 10014 12131  7263\n",
      " 10294  9007 12443 16009  5157 16071  3061  9313 12295 10176  9411 10310\n",
      " 10271 13198 14121 10079 13346 12293  3135  9123     2  4382 12081 13034\n",
      "  9278 12321 14124]\n"
     ]
    }
   ],
   "source": [
    "print \"country_code value range is \" + str(data['country_code'].unique())"
   ]
  },
  {
   "cell_type": "code",
   "execution_count": 110,
   "metadata": {},
   "outputs": [
    {
     "name": "stdout",
     "output_type": "stream",
     "text": [
      "country_name value range is ['Afghanistan' 'Albania' 'Algeria' 'Ameri Samoa' 'Andorra' 'Angola'\n",
      " 'Anguilla' 'Antartica' 'Antigua' 'Argentina' 'Armenia' 'Aruba' 'Australia'\n",
      " 'Austria' 'Azerbaijan' 'Bahamas' 'Baharain Is' 'Bangladesh Pr' 'Barbados'\n",
      " 'Belarus' 'Belgium' 'Belize' 'Benin' 'Bermuda' 'Bhutan' 'Bolivia'\n",
      " 'Bosnia-Hrzgovin' 'Botswana' 'Br Virgn Is' 'Brazil' 'Brunei' 'Bulgaria'\n",
      " 'Burkina Faso' 'Burundi' 'C Afri Rep' 'Cambodia' 'Cameroon' 'Canada'\n",
      " 'Canary Is' 'Cape Verde Is' 'Cayman Is' 'Chad' 'Channel Is' 'Chile'\n",
      " 'China P Rp' 'Christmas Is.' 'Cocos Is' 'Colombia' 'Comoros'\n",
      " 'Congo D. Rep.' 'Congo P Rep' 'Cook Is' 'Costa Rica' \"Cote D' Ivoire\"\n",
      " 'Croatia' 'Cuba' 'Cyprus' 'Czech Republic' 'Denmark' 'Djibouti'\n",
      " 'Dominic Rep' 'Dominica' 'East Timor' 'Ecuador' 'Egypt A Rp' 'El Salvador'\n",
      " 'Equtl Guinea' 'Eritrea' 'Estonia' 'Ethiopia' 'Falkland Is' 'Faroe Is.'\n",
      " 'Fiji Is' 'Finland' 'Fr Guiana' 'Fr Polynesia' 'Fr S Ant Tr' 'France'\n",
      " 'Gabon' 'Gambia' 'Georgia' 'Germany' 'Ghana' 'Gibraltar' 'Greece'\n",
      " 'Greenland' 'Grenada' 'Guadeloupe' 'Guam' 'Guatemala' 'Guernsey' 'Guinea'\n",
      " 'Guinea Bissau' 'Guyana' 'Haiti' 'Heard Macdonald' 'Honduras' 'Hong Kong'\n",
      " 'Hungary' 'Iceland' 'Indonesia' 'Installations In International Waters'\n",
      " 'Iran' 'Iraq' 'Ireland' 'Israel' 'Italy' 'Jamaica' 'Japan' 'Jordan'\n",
      " 'Kazakhstan' 'Kenya' 'Kiribati Rep' 'Korea Dp Rp' 'Korea Rp' 'Kuwait'\n",
      " 'Kyrghyzstan' 'Lao Pd Rp' 'Latvia' 'Lebanon' 'Lesotho' 'Liberia' 'Libya'\n",
      " 'Liechtenstein' 'Lithuania' 'Luxembourg' 'Macao' 'Macedonia' 'Madagascar'\n",
      " 'Malawi' 'Malaysia' 'Maldives' 'Mali' 'Malta' 'Marshall Island'\n",
      " 'Martinique' 'Mauritania' 'Mauritius' 'Mayotte' 'Mexico' 'Micronesia'\n",
      " 'Moldova' 'Monaco' 'Mongolia' 'Montenegro' 'Montserrat' 'Morocco'\n",
      " 'Mozambique' 'Myanmar' 'N. Mariana Is.' 'Namibia' 'Nauru Rp' 'Nepal'\n",
      " 'Netherland' 'Netherlandantil' 'New Caledonia' 'New Zealand' 'Nicaragua'\n",
      " 'Niger' 'Nigeria' 'Niue Is' 'Norfolk Is' 'Norway' 'Oman' 'Pakistan Ir'\n",
      " 'Palau' 'Panama C Z' 'Panama Republic' 'Papua N Gna' 'Paraguay' 'Peru'\n",
      " 'Philippines' 'Pitcairn Is.' 'Poland' 'Portugal' 'Puerto Rico' 'Qatar'\n",
      " 'Reunion' 'Romania' 'Russia' 'Rwanda' 'Saharwi A.Dm Rp' 'Samoa'\n",
      " 'San Marino' 'Sao Tome' 'Saudi Arab' 'Senegal' 'Serbia' 'Serbia Montngro'\n",
      " 'Seychelles' 'Sierra Leone' 'Singapore' 'Sint Maarten (Dutch Part)'\n",
      " 'Slovak Rep' 'Slovenia' 'Solomon Is' 'Somalia' 'South Africa'\n",
      " 'South Sudan' 'Spain' 'Sri Lanka Dsr' 'St Helena' 'St Kitt N A' 'St Lucia'\n",
      " 'St Pierre' 'St Vincent' 'Sudan' 'Suriname' 'Swaziland' 'Sweden'\n",
      " 'Switzerland' 'Syria' 'Taiwan' 'Tajikistan' 'Tanzania Rep' 'Thailand'\n",
      " 'Timor-Leste' 'Togo' 'Tokelau Is' 'Tonga' 'Trinidad' 'Tunisia' 'Turkey'\n",
      " 'Turkmenistan' 'Turks C Is' 'Tuvalu' 'U Arab Emts' 'U K' 'U S A' 'Uganda'\n",
      " 'Ukraine' 'Unspecified' 'Uruguay' 'Us Minor Outlying Islands' 'Uzbekistan'\n",
      " 'Vanuatu Rep' 'Vatican City' 'Venezuela' 'Vietnam Soc Rep' 'Virgin Is Us'\n",
      " 'Wallis F Is' 'Yemen Republc' 'Zambia' 'Zimbabwe']\n"
     ]
    }
   ],
   "source": [
    "print \"country_name value range is \" + str(np.sort(data['country_name'].unique()))"
   ]
  },
  {
   "cell_type": "markdown",
   "metadata": {},
   "source": [
    "### create a dict of country_name and coutry_code"
   ]
  },
  {
   "cell_type": "code",
   "execution_count": 170,
   "metadata": {},
   "outputs": [
    {
     "name": "stdout",
     "output_type": "stream",
     "text": [
      "       country_code country_name\n",
      "63179         15430   Uzbekistan\n",
      "83967         13193      Ireland\n",
      "27767         16251        Malta\n"
     ]
    }
   ],
   "source": [
    "code_name = data[['country_code', 'country_name']]\n",
    "print code_name.sample(n=3)"
   ]
  },
  {
   "cell_type": "code",
   "execution_count": 172,
   "metadata": {},
   "outputs": [
    {
     "name": "stdout",
     "output_type": "stream",
     "text": [
      "      pc_code                pc_description unit  country_code country_name  \\\n",
      "86528      K7           Packaging Materials  Ton         11219       Kuwait   \n",
      "11135      K8         Plastic Raw Materials  Ton         15003      Albania   \n",
      "54324      L9  Tin And Products Made Of Tin  Ton         10205        Japan   \n",
      "\n",
      "       quantity     value  year  export_import  \n",
      "86528       2.0  0.007682  2016              2  \n",
      "11135       1.0  0.005198  2014              1  \n",
      "54324       0.0  0.006478  2016              1  \n"
     ]
    }
   ],
   "source": [
    "print data.sample(n=3)"
   ]
  },
  {
   "cell_type": "code",
   "execution_count": 174,
   "metadata": {},
   "outputs": [
    {
     "name": "stdout",
     "output_type": "stream",
     "text": [
      "       country_code country_name\n",
      "137           11219       Kuwait\n",
      "288           11219       Kuwait\n",
      "402           11219       Kuwait\n",
      "544           11219       Kuwait\n",
      "690           11219       Kuwait\n",
      "786           11219       Kuwait\n",
      "873           11219       Kuwait\n",
      "960           11219       Kuwait\n",
      "1154          11219       Kuwait\n",
      "1305          11219       Kuwait\n",
      "1419          11219       Kuwait\n",
      "1553          11219       Kuwait\n",
      "1621          11219       Kuwait\n",
      "1680          11219       Kuwait\n",
      "1773          11219       Kuwait\n",
      "1867          11219       Kuwait\n",
      "1964          11219       Kuwait\n",
      "2057          11219       Kuwait\n",
      "2161          11219       Kuwait\n",
      "2356          11219       Kuwait\n",
      "2488          11219       Kuwait\n",
      "2607          11219       Kuwait\n",
      "2712          11219       Kuwait\n",
      "2817          11219       Kuwait\n",
      "2966          11219       Kuwait\n",
      "3136          11219       Kuwait\n",
      "3251          11219       Kuwait\n",
      "3351          11219       Kuwait\n",
      "3495          11219       Kuwait\n",
      "3613          11219       Kuwait\n",
      "...             ...          ...\n",
      "87014         11219       Kuwait\n",
      "87140         11219       Kuwait\n",
      "87289         11219       Kuwait\n",
      "87416         11219       Kuwait\n",
      "87518         11219       Kuwait\n",
      "87574         11219       Kuwait\n",
      "87684         11219       Kuwait\n",
      "87865         11219       Kuwait\n",
      "88159         11219       Kuwait\n",
      "88274         11219       Kuwait\n",
      "88411         11219       Kuwait\n",
      "88545         11219       Kuwait\n",
      "88660         11219       Kuwait\n",
      "88855         11219       Kuwait\n",
      "88956         11219       Kuwait\n",
      "89109         11219       Kuwait\n",
      "89215         11219       Kuwait\n",
      "89375         11219       Kuwait\n",
      "89611         11219       Kuwait\n",
      "89714         11219       Kuwait\n",
      "89922         11219       Kuwait\n",
      "90045         11219       Kuwait\n",
      "90625         11219       Kuwait\n",
      "90859         11219       Kuwait\n",
      "90916         11219       Kuwait\n",
      "90987         11219       Kuwait\n",
      "91172         11219       Kuwait\n",
      "91240         11219       Kuwait\n",
      "91342         11219       Kuwait\n",
      "91402         11219       Kuwait\n",
      "\n",
      "[605 rows x 2 columns]\n"
     ]
    }
   ],
   "source": [
    "print code_name[code_name['country_code'] == 11219]"
   ]
  },
  {
   "cell_type": "code",
   "execution_count": null,
   "metadata": {
    "collapsed": true
   },
   "outputs": [],
   "source": []
  }
 ],
 "metadata": {
  "kernelspec": {
   "display_name": "Python 2",
   "language": "python",
   "name": "python2"
  },
  "language_info": {
   "codemirror_mode": {
    "name": "ipython",
    "version": 2
   },
   "file_extension": ".py",
   "mimetype": "text/x-python",
   "name": "python",
   "nbconvert_exporter": "python",
   "pygments_lexer": "ipython2",
   "version": "2.7.13"
  }
 },
 "nbformat": 4,
 "nbformat_minor": 2
}
