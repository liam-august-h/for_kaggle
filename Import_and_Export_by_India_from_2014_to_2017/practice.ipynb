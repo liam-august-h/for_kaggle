{
 "cells": [
  {
   "cell_type": "markdown",
   "metadata": {},
   "source": [
    "# Import and Export by India from 2014 to 2017"
   ]
  },
  {
   "cell_type": "markdown",
   "metadata": {},
   "source": [
    "To better understand the imports and exports by India. Some of questions I would like to be answered are\n",
    "\n",
    "- Top countries by growth percentage.\n",
    "- Top commodity by quantity or value.\n",
    "- YoY growth of export and import.\n",
    "\n",
    "The whole dataset is about import and export data available by principle commodity and country wise for 3 years from Apr'2014 to Mar'2017."
   ]
  },
  {
   "cell_type": "code",
   "execution_count": 75,
   "metadata": {
    "collapsed": true
   },
   "outputs": [],
   "source": [
    "import matplotlib.pyplot as plt\n",
    "import numpy as np\n",
    "import pandas as pd\n",
    "import seaborn as sns"
   ]
  },
  {
   "cell_type": "code",
   "execution_count": 2,
   "metadata": {
    "collapsed": true
   },
   "outputs": [],
   "source": [
    "%matplotlib inline"
   ]
  },
  {
   "cell_type": "code",
   "execution_count": 3,
   "metadata": {
    "collapsed": true
   },
   "outputs": [],
   "source": [
    "import os"
   ]
  },
  {
   "cell_type": "markdown",
   "metadata": {},
   "source": [
    "## loading data"
   ]
  },
  {
   "cell_type": "code",
   "execution_count": 21,
   "metadata": {},
   "outputs": [],
   "source": [
    "data_files = [x for x in os.listdir(\"./dataset\") if os.path.isfile(os.path.join(\"./dataset\", x))]"
   ]
  },
  {
   "cell_type": "code",
   "execution_count": 36,
   "metadata": {
    "collapsed": true
   },
   "outputs": [],
   "source": [
    "def load_data(x):\n",
    "    data = pd.read_csv(os.path.join(\"./dataset\", x))\n",
    "    _, trade, year, _ = x.split(\"_\")\n",
    "    data = data.assign(year=year).assign(trade=trade)\n",
    "    return data"
   ]
  },
  {
   "cell_type": "code",
   "execution_count": 40,
   "metadata": {},
   "outputs": [
    {
     "name": "stdout",
     "output_type": "stream",
     "text": [
      "      pc_code                  pc_description unit  country_code country_name  \\\n",
      "617        A4        Rice(Other Than Basmoti)  Ton          3041     Botswana   \n",
      "34327      J3  Graphite, Explsivs And Accesor  Kgs         10077   China P Rp   \n",
      "30364      S2     Carpet(Excl. Silk) Handmade  Sqm         13421          U K   \n",
      "52238      L4      Products Of Iron And Steel   Na          3053      Burundi   \n",
      "24258      I7  Residul Chemicl And Alled Prod   Na         15343      Romania   \n",
      "12121      L5  Aluminium, Products Of Aluminm  Ton          4381        Sudan   \n",
      "56311      O3              Pumps Of All Types   Na         10309  Pakistan Ir   \n",
      "\n",
      "         quantity      value  year   trade  \n",
      "617         485.0   0.233873  2014  Export  \n",
      "34327  21931109.0  21.797626  2016  Import  \n",
      "30364    118667.0   2.236532  2015  Import  \n",
      "52238         NaN   0.418010  2016  Export  \n",
      "24258         NaN   1.144773  2015  Import  \n",
      "12121       251.0   1.160404  2014  Export  \n",
      "56311         NaN   1.055163  2016  Export  \n"
     ]
    }
   ],
   "source": [
    "data = reduce(lambda x, y: x.append(y, ignore_index=True), map(load_data, data_files))\n",
    "print data.sample(n=7)"
   ]
  },
  {
   "cell_type": "markdown",
   "metadata": {},
   "source": [
    "> Column Descriptions:  \n",
    "- pc_code: Integer, Principal Commodity Code \n",
    "- pc: String, Principal Commodity Name\n",
    "- unit: String, measurement of quantity\n",
    "- country_code: Integer, country code\n",
    "- country_name: String, country name\n",
    "- quantity: Integer, quantify of export or import\n",
    "- value: Integer, monetary valeu of the quantity (in million USD)"
   ]
  },
  {
   "cell_type": "markdown",
   "metadata": {},
   "source": [
    "## Exploration"
   ]
  },
  {
   "cell_type": "code",
   "execution_count": 41,
   "metadata": {
    "collapsed": true
   },
   "outputs": [],
   "source": [
    "data['unit'] = map(lambda x : None if x == 'Na' else x, data['unit'])"
   ]
  },
  {
   "cell_type": "code",
   "execution_count": 42,
   "metadata": {
    "collapsed": true
   },
   "outputs": [],
   "source": [
    "missing_value = map(lambda x : sum(data[x].isnull()), data.columns)"
   ]
  },
  {
   "cell_type": "code",
   "execution_count": 43,
   "metadata": {},
   "outputs": [
    {
     "name": "stdout",
     "output_type": "stream",
     "text": [
      "there are 91440 observations and 9 features\n",
      "   missing            name\n",
      "0        0         pc_code\n",
      "1        0  pc_description\n",
      "2    48520            unit\n",
      "3        0    country_code\n",
      "4        0    country_name\n",
      "5    48523        quantity\n",
      "6        0           value\n",
      "7        0            year\n",
      "8        0           trade\n"
     ]
    }
   ],
   "source": [
    "print \"there are {} observations and {} features\".format(data.shape[0], data.shape[1])\n",
    "print(pd.DataFrame({'name':data.columns, 'missing':missing_value}))"
   ]
  },
  {
   "cell_type": "markdown",
   "metadata": {},
   "source": [
    "*pc_code*, *pc_description*, *unit*, *country_code*, *country_name* are all categories data."
   ]
  },
  {
   "cell_type": "code",
   "execution_count": 75,
   "metadata": {
    "scrolled": true
   },
   "outputs": [
    {
     "name": "stdout",
     "output_type": "stream",
     "text": [
      "pc_code value range is ['99' 'A1' 'A2' 'A3' 'A4' 'A5' 'A6' 'A7' 'A8' 'A9' 'B1' 'B2' 'B3' 'B4' 'B5'\n",
      " 'B6' 'B7' 'B8' 'B9' 'C1' 'C2' 'C3' 'C4' 'C5' 'C6' 'C7' 'C8' 'C9' 'D1' 'D2'\n",
      " 'D3' 'D4' 'D5' 'D6' 'D7' 'D8' 'D9' 'E1' 'E2' 'E3' 'E4' 'E5' 'E6' 'E7' 'E8'\n",
      " 'E9' 'F1' 'F2' 'F3' 'F4' 'F5' 'F6' 'F7' 'F8' 'F9' 'G1' 'G2' 'G3' 'G4' 'G5'\n",
      " 'G6' 'G7' 'G8' 'G9' 'H1' 'H2' 'H3' 'H4' 'H5' 'H6' 'H7' 'H8' 'H9' 'I1' 'I2'\n",
      " 'I3' 'I4' 'I5' 'I6' 'I7' 'I8' 'I9' 'J1' 'J2' 'J3' 'J4' 'J5' 'J6' 'J7' 'J8'\n",
      " 'J9' 'K1' 'K2' 'K3' 'K4' 'K5' 'K6' 'K7' 'K8' 'K9' 'L1' 'L2' 'L3' 'L4' 'L5'\n",
      " 'L6' 'L7' 'L8' 'L9' 'M1' 'M2' 'M3' 'M4' 'M5' 'M6' 'M7' 'M8' 'M9' 'N1' 'N2'\n",
      " 'N3' 'N4' 'N5' 'N6' 'N7' 'N8' 'N9' 'O1' 'O2' 'O3' 'O4' 'O5' 'O6' 'O7' 'O8'\n",
      " 'O9' 'P1' 'P2' 'P3' 'P4' 'P5' 'P6' 'P7' 'P8' 'P9' 'Q1' 'Q2' 'Q3' 'Q4' 'Q5'\n",
      " 'Q6' 'Q7' 'Q8' 'Q9' 'R1' 'R2' 'R3' 'R4' 'R5' 'R6' 'R7' 'R8' 'R9' 'S1' 'S2'\n",
      " 'S3' 'S4' 'S6' 'S5']\n"
     ]
    }
   ],
   "source": [
    "print \"pc_code value range is \" + str(data['pc_code'].unique())"
   ]
  },
  {
   "cell_type": "code",
   "execution_count": 163,
   "metadata": {},
   "outputs": [
    {
     "name": "stdout",
     "output_type": "stream",
     "text": [
      "pc_description value range is ['Other Commodities' 'Tea' 'Coffee' 'Rice -Basmoti'\n",
      " 'Rice(Other Than Basmoti)' 'Wheat' 'Other Cereals' 'Pulses'\n",
      " 'Tobacco Unmanufactured' 'Tobacco Manufactured' 'Spices' 'Cashew'\n",
      " 'Cashew Nut Shell Liquid' 'Sesame Seeds' 'Niger Seeds' 'Groundnut'\n",
      " 'Other Oil Seeds' 'Vegetable Oils' 'Oil Meals' 'Guergam Meal' 'Castor Oil'\n",
      " 'Shellac' 'Sugar' 'Mollases' 'Fruits / Vegetable Seeds' 'Fresh Fruits'\n",
      " 'Fresh Vegetables' 'Processed Vegetables' 'Processed Fruits And Juices'\n",
      " 'Cereal Preparations' 'Cocoa Products' 'Milled Products'\n",
      " 'Misc Processed Items' 'Animal Casings' 'Buffalo Meat' 'Sheep/Goat Meat'\n",
      " 'Other Meat' 'Processed Meat' 'Dairy Products' 'Poultry Products'\n",
      " 'Floricltr Products' 'Natural Rubber' 'Alcoholic Beverages'\n",
      " 'Marine Products' 'Iron Ore' 'Mica' 'Coal,Coke And Briquittes Etc'\n",
      " 'Bulk Minerals And Ores' 'Granit, Natrl Stone And Prodct'\n",
      " 'Processed Minerals' 'Sulpher, Unroasted Iron Pyrite'\n",
      " 'Other Crude Minerals' 'Raw Hides And Skins' 'Finished Leather'\n",
      " 'Leather Goods' 'Leather Garments' 'Footwear Of Leather'\n",
      " 'Leather Footwear Component' 'Saddlery And Harness'\n",
      " 'Pearl, Precs, Semiprecs Stones' 'Gold' 'Silver'\n",
      " 'Other Precious And Base Metals' 'Gold And Oth Precs Metl Jwlery'\n",
      " 'Sports Goods' 'Fertilezers Crude' 'Fertilezers Manufactured'\n",
      " 'Ayush And Herbal Products' 'Bulk Drugs, Drug Intermediates'\n",
      " 'Dye Intermediates' 'Dyes' 'Drug Formulations, Biologicals'\n",
      " 'Agro Chemicals' 'Surgicals' 'Inorganic Chemicals' 'Organic Chemicals'\n",
      " 'Other Miscellaenious Chemicals' 'Cosmetics And Toiletries'\n",
      " 'Essential Oils' 'Residul Chemicl And Alled Prod' 'Auto Tyres And Tubes'\n",
      " 'Othr Rubber Prodct Excpt Footw' 'Footwear Of Rubber/Canvas Etc.'\n",
      " 'Paint, Varnish And Allid Prodc' 'Graphite, Explsivs And Accesor'\n",
      " 'Cmnt, Clinkr And Asbstos Cmnt' 'Ceramics And Allied Products'\n",
      " 'Glass And Glassware' 'Books, Publications And Prntng' 'Newsprint'\n",
      " 'Paper, Paper Board And Product' 'Plywood And Allied Products'\n",
      " 'Other Wood And Wood Products' 'Pulp And Waste Paper'\n",
      " 'Optical Items (Incl.Lens Etc)' 'Human Hair, Products Thereo'\n",
      " 'Moulded And Extruded Goods' 'Packaging Materials' 'Plastic Raw Materials'\n",
      " 'Plastc Sht, Film, Plts Etc' 'Stationry/Offce, School Supply'\n",
      " 'Other Plastic Items' 'Iron And Steel' 'Products Of Iron And Steel'\n",
      " 'Aluminium, Products Of Aluminm' 'Copper And Prdcts Made Of Copr'\n",
      " 'Lead And Products Made Of Led' 'Nickel, Product Made Of Nickel'\n",
      " 'Tin And Products Made Of Tin' 'Zinc And Products Made Of Zinc'\n",
      " 'Oth Non Ferous Metal And Prodc' 'Auto Components/Parts' 'Electrodes'\n",
      " 'Accumulators And Batteries' 'Hnd Tool, Cttng Tool Of Metals'\n",
      " 'Machine Tools' 'Medical And Scientific Instrum' 'Office Equipments'\n",
      " 'Ac, Refrigeration Machnry Etc' 'Bicycle And Parts'\n",
      " 'Cranes, Lifts And Winches' 'Electric Machinery And Equipme'\n",
      " 'Ic Engines And Parts' 'Indl. Machnry For Dairy Etc'\n",
      " 'Atm, Injctng Mlding Mchnry Etc' 'Nucler Reactr, Indl Boilr, Prt'\n",
      " 'Other Construction Machinery' 'Other Misc. Engineering Items'\n",
      " 'Prime Mica And Mica Products' 'Pumps Of All Types'\n",
      " 'Aircraft, Spacecraft And Parts' 'Motor Vehicle/Cars'\n",
      " 'Railwy Trnsprt Equipmnts, Prts' 'Ship, Boat And Floating Struct'\n",
      " 'Two And Three Wheelers' 'Computer Hardware, Peripherals'\n",
      " 'Consumer Electronics' 'Electronics Components' 'Electronics Instruments'\n",
      " 'Telecom Instruments' 'Project Goods' 'Manmade Staple Fibre' 'Cotton Yarn'\n",
      " 'Cotton Fabrics, Madeups Etc.' 'Oth Txtl Yrn, Fbric Mdup Artcl' 'Silk,Raw'\n",
      " 'Natrl Silk Yarn,Fabrics,Madeup' 'Manmade Yarn,Fabrics,Madeups'\n",
      " 'Wool, Raw' 'Wollen Yarn,Fabrics,Madeupsetc' 'Rmg Cotton Incl Accessories'\n",
      " 'Rmg Silk' 'Rmg Manmade Fibres' 'Rmg Wool' 'Rmg Of Othr Textle Matrl'\n",
      " 'Coir And Coir Manufactures' 'Handloom Products' 'Silk Waste' 'Jute, Raw'\n",
      " 'Jute Yarn' 'Jute Hessian' 'Floor Cvrng Of Jute' 'Other Jute Manufactures'\n",
      " 'Handcrfs(Excl.Handmade Crpts)' 'Carpet(Excl. Silk) Handmade'\n",
      " 'Silk Carpet' 'Cotton Raw Incld. Waste' 'Petroleum Products'\n",
      " 'Petroleum: Crude']\n"
     ]
    }
   ],
   "source": [
    "print \"pc_description value range is \" + str(data['pc_description'].unique())"
   ]
  },
  {
   "cell_type": "code",
   "execution_count": 142,
   "metadata": {
    "scrolled": true
   },
   "outputs": [
    {
     "data": {
      "text/plain": [
       "<matplotlib.axes._subplots.AxesSubplot at 0x7f653d4ab190>"
      ]
     },
     "execution_count": 142,
     "metadata": {},
     "output_type": "execute_result"
    },
    {
     "data": {
      "image/png": "[encoded data removed]",
      "text/plain": [
       "<matplotlib.figure.Figure at 0x7f653db47c90>"
      ]
     },
     "metadata": {},
     "output_type": "display_data"
    }
   ],
   "source": [
    "sns.countplot(x='pc_code', data=data)"
   ]
  },
  {
   "cell_type": "code",
   "execution_count": 161,
   "metadata": {
    "scrolled": true
   },
   "outputs": [
    {
     "name": "stdout",
     "output_type": "stream",
     "text": [
      "pc_code  pc_description                \n",
      "99       Other Commodities                 1166\n",
      "N4       Electric Machinery And Equipme     992\n",
      "J9       Paper, Paper Board And Product     991\n",
      "L4       Products Of Iron And Steel         986\n",
      "N6       Indl. Machnry For Dairy Etc        982\n",
      "L5       Aluminium, Products Of Aluminm     970\n",
      "L3       Iron And Steel                     969\n",
      "M8       Medical And Scientific Instrum     962\n",
      "K6       Moulded And Extruded Goods         952\n",
      "O1       Other Misc. Engineering Items      943\n",
      "P3       Electronics Instruments            932\n",
      "K1       Plywood And Allied Products        919\n",
      "L6       Copper And Prdcts Made Of Copr     912\n",
      "I9       Othr Rubber Prodct Excpt Footw     900\n",
      "P2       Electronics Components             890\n",
      "J7       Books, Publications And Prntng     889\n",
      "H8       Drug Formulations, Biologicals     885\n",
      "S1       Handcrfs(Excl.Handmade Crpts)      874\n",
      "P8       Cotton Fabrics, Madeups Etc.       864\n",
      "I7       Residul Chemicl And Alled Prod     857\n",
      "Q6       Rmg Cotton Incl Accessories        842\n",
      "P1       Consumer Electronics               840\n",
      "J6       Glass And Glassware                839\n",
      "I5       Cosmetics And Toiletries           838\n",
      "K7       Packaging Materials                836\n",
      "M3       Auto Components/Parts              830\n",
      "R1       Rmg Of Othr Textle Matrl           829\n",
      "M2       Oth Non Ferous Metal And Prodc     828\n",
      "K8       Plastic Raw Materials              826\n",
      "M6       Hnd Tool, Cttng Tool Of Metals     825\n",
      "                                           ... \n",
      "C3       Shellac                            284\n",
      "E9       Mica                               261\n",
      "G7       Silver                             244\n",
      "B6       Groundnut                          231\n",
      "F1       Coal,Coke And Briquittes Etc       200\n",
      "E3       Poultry Products                   192\n",
      "Q4       Wool, Raw                          190\n",
      "D7       Buffalo Meat                       189\n",
      "R6       Jute Yarn                          186\n",
      "E5       Natural Rubber                     186\n",
      "G8       Other Precious And Base Metals     180\n",
      "A5       Wheat                              166\n",
      "F5       Sulpher, Unroasted Iron Pyrite     166\n",
      "J8       Newsprint                          160\n",
      "L9       Tin And Products Made Of Tin       153\n",
      "G6       Gold                               152\n",
      "K3       Pulp And Waste Paper               143\n",
      "S5       Petroleum: Crude                   128\n",
      "C5       Mollases                           125\n",
      "S3       Silk Carpet                        115\n",
      "B3       Cashew Nut Shell Liquid            102\n",
      "B5       Niger Seeds                         99\n",
      "E8       Iron Ore                            90\n",
      "D8       Sheep/Goat Meat                     63\n",
      "E1       Processed Meat                      57\n",
      "R4       Silk Waste                          46\n",
      "D6       Animal Casings                      43\n",
      "D9       Other Meat                          35\n",
      "Q1       Silk,Raw                            29\n",
      "R5       Jute, Raw                           26\n",
      "Name: pc_code, Length: 169, dtype: int64\n"
     ]
    }
   ],
   "source": [
    "pc_count = data.groupby(['pc_code', 'pc_description'])['pc_code'].count()\\\n",
    "    .sort_values(ascending=False)\n",
    "print pc_count"
   ]
  },
  {
   "cell_type": "markdown",
   "metadata": {},
   "source": [
    "*Electric Machinery And Equipme*, *Paper* and *Icon and Steel* are top 3 principal commodity. They might be not the most valuable items."
   ]
  },
  {
   "cell_type": "code",
   "execution_count": null,
   "metadata": {
    "collapsed": true
   },
   "outputs": [],
   "source": [
    "def get_first_letter(x):\n",
    "    print x\n",
    "    return "
   ]
  },
  {
   "cell_type": "code",
   "execution_count": 184,
   "metadata": {},
   "outputs": [
    {
     "ename": "TypeError",
     "evalue": "'int' object has no attribute '__getitem__'",
     "output_type": "error",
     "traceback": [
      "\u001b[0;31m---------------------------------------------------------------------------\u001b[0m",
      "\u001b[0;31mTypeError\u001b[0m                                 Traceback (most recent call last)",
      "\u001b[0;32m<ipython-input-184-72f11348942c>\u001b[0m in \u001b[0;36m<module>\u001b[0;34m()\u001b[0m\n\u001b[0;32m----> 1\u001b[0;31m \u001b[0mdata\u001b[0m\u001b[0;34m.\u001b[0m\u001b[0mgroupby\u001b[0m\u001b[0;34m(\u001b[0m\u001b[0;32mlambda\u001b[0m \u001b[0mx\u001b[0m \u001b[0;34m:\u001b[0m \u001b[0mx\u001b[0m\u001b[0;34m[\u001b[0m\u001b[0;34m'pc_code'\u001b[0m\u001b[0;34m]\u001b[0m\u001b[0;34m,\u001b[0m \u001b[0maxis\u001b[0m\u001b[0;34m=\u001b[0m\u001b[0;36m0\u001b[0m\u001b[0;34m)\u001b[0m\u001b[0;34m.\u001b[0m\u001b[0mcount\u001b[0m\u001b[0;34m(\u001b[0m\u001b[0;34m)\u001b[0m\u001b[0;34m\u001b[0m\u001b[0m\n\u001b[0m",
      "\u001b[0;32m/home/liam/anaconda2/lib/python2.7/site-packages/pandas/core/generic.pyc\u001b[0m in \u001b[0;36mgroupby\u001b[0;34m(self, by, axis, level, as_index, sort, group_keys, squeeze, **kwargs)\u001b[0m\n\u001b[1;32m   4269\u001b[0m         return groupby(self, by=by, axis=axis, level=level, as_index=as_index,\n\u001b[1;32m   4270\u001b[0m                        \u001b[0msort\u001b[0m\u001b[0;34m=\u001b[0m\u001b[0msort\u001b[0m\u001b[0;34m,\u001b[0m \u001b[0mgroup_keys\u001b[0m\u001b[0;34m=\u001b[0m\u001b[0mgroup_keys\u001b[0m\u001b[0;34m,\u001b[0m \u001b[0msqueeze\u001b[0m\u001b[0;34m=\u001b[0m\u001b[0msqueeze\u001b[0m\u001b[0;34m,\u001b[0m\u001b[0;34m\u001b[0m\u001b[0m\n\u001b[0;32m-> 4271\u001b[0;31m                        **kwargs)\n\u001b[0m\u001b[1;32m   4272\u001b[0m \u001b[0;34m\u001b[0m\u001b[0m\n\u001b[1;32m   4273\u001b[0m     def asfreq(self, freq, method=None, how=None, normalize=False,\n",
      "\u001b[0;32m/home/liam/anaconda2/lib/python2.7/site-packages/pandas/core/groupby.pyc\u001b[0m in \u001b[0;36mgroupby\u001b[0;34m(obj, by, **kwds)\u001b[0m\n\u001b[1;32m   1624\u001b[0m         \u001b[0;32mraise\u001b[0m \u001b[0mTypeError\u001b[0m\u001b[0;34m(\u001b[0m\u001b[0;34m'invalid type: %s'\u001b[0m \u001b[0;34m%\u001b[0m \u001b[0mtype\u001b[0m\u001b[0;34m(\u001b[0m\u001b[0mobj\u001b[0m\u001b[0;34m)\u001b[0m\u001b[0;34m)\u001b[0m\u001b[0;34m\u001b[0m\u001b[0m\n\u001b[1;32m   1625\u001b[0m \u001b[0;34m\u001b[0m\u001b[0m\n\u001b[0;32m-> 1626\u001b[0;31m     \u001b[0;32mreturn\u001b[0m \u001b[0mklass\u001b[0m\u001b[0;34m(\u001b[0m\u001b[0mobj\u001b[0m\u001b[0;34m,\u001b[0m \u001b[0mby\u001b[0m\u001b[0;34m,\u001b[0m \u001b[0;34m**\u001b[0m\u001b[0mkwds\u001b[0m\u001b[0;34m)\u001b[0m\u001b[0;34m\u001b[0m\u001b[0m\n\u001b[0m\u001b[1;32m   1627\u001b[0m \u001b[0;34m\u001b[0m\u001b[0m\n\u001b[1;32m   1628\u001b[0m \u001b[0;34m\u001b[0m\u001b[0m\n",
      "\u001b[0;32m/home/liam/anaconda2/lib/python2.7/site-packages/pandas/core/groupby.pyc\u001b[0m in \u001b[0;36m__init__\u001b[0;34m(self, obj, keys, axis, level, grouper, exclusions, selection, as_index, sort, group_keys, squeeze, **kwargs)\u001b[0m\n\u001b[1;32m    390\u001b[0m                                                     \u001b[0mlevel\u001b[0m\u001b[0;34m=\u001b[0m\u001b[0mlevel\u001b[0m\u001b[0;34m,\u001b[0m\u001b[0;34m\u001b[0m\u001b[0m\n\u001b[1;32m    391\u001b[0m                                                     \u001b[0msort\u001b[0m\u001b[0;34m=\u001b[0m\u001b[0msort\u001b[0m\u001b[0;34m,\u001b[0m\u001b[0;34m\u001b[0m\u001b[0m\n\u001b[0;32m--> 392\u001b[0;31m                                                     mutated=self.mutated)\n\u001b[0m\u001b[1;32m    393\u001b[0m \u001b[0;34m\u001b[0m\u001b[0m\n\u001b[1;32m    394\u001b[0m         \u001b[0mself\u001b[0m\u001b[0;34m.\u001b[0m\u001b[0mobj\u001b[0m \u001b[0;34m=\u001b[0m \u001b[0mobj\u001b[0m\u001b[0;34m\u001b[0m\u001b[0m\n",
      "\u001b[0;32m/home/liam/anaconda2/lib/python2.7/site-packages/pandas/core/groupby.pyc\u001b[0m in \u001b[0;36m_get_grouper\u001b[0;34m(obj, key, axis, level, sort, mutated)\u001b[0m\n\u001b[1;32m   2636\u001b[0m                         \u001b[0msort\u001b[0m\u001b[0;34m=\u001b[0m\u001b[0msort\u001b[0m\u001b[0;34m,\u001b[0m\u001b[0;34m\u001b[0m\u001b[0m\n\u001b[1;32m   2637\u001b[0m                         in_axis=in_axis) \\\n\u001b[0;32m-> 2638\u001b[0;31m             \u001b[0;32mif\u001b[0m \u001b[0;32mnot\u001b[0m \u001b[0misinstance\u001b[0m\u001b[0;34m(\u001b[0m\u001b[0mgpr\u001b[0m\u001b[0;34m,\u001b[0m \u001b[0mGrouping\u001b[0m\u001b[0;34m)\u001b[0m \u001b[0;32melse\u001b[0m \u001b[0mgpr\u001b[0m\u001b[0;34m\u001b[0m\u001b[0m\n\u001b[0m\u001b[1;32m   2639\u001b[0m \u001b[0;34m\u001b[0m\u001b[0m\n\u001b[1;32m   2640\u001b[0m         \u001b[0mgroupings\u001b[0m\u001b[0;34m.\u001b[0m\u001b[0mappend\u001b[0m\u001b[0;34m(\u001b[0m\u001b[0mping\u001b[0m\u001b[0;34m)\u001b[0m\u001b[0;34m\u001b[0m\u001b[0m\n",
      "\u001b[0;32m/home/liam/anaconda2/lib/python2.7/site-packages/pandas/core/groupby.pyc\u001b[0m in \u001b[0;36m__init__\u001b[0;34m(self, index, grouper, obj, name, level, sort, in_axis)\u001b[0m\n\u001b[1;32m   2418\u001b[0m                     \u001b[0mt\u001b[0m \u001b[0;34m=\u001b[0m \u001b[0mself\u001b[0m\u001b[0;34m.\u001b[0m\u001b[0mname\u001b[0m \u001b[0;32mor\u001b[0m \u001b[0mstr\u001b[0m\u001b[0;34m(\u001b[0m\u001b[0mtype\u001b[0m\u001b[0;34m(\u001b[0m\u001b[0mself\u001b[0m\u001b[0;34m.\u001b[0m\u001b[0mgrouper\u001b[0m\u001b[0;34m)\u001b[0m\u001b[0;34m)\u001b[0m\u001b[0;34m\u001b[0m\u001b[0m\n\u001b[1;32m   2419\u001b[0m                     \u001b[0;32mraise\u001b[0m \u001b[0mValueError\u001b[0m\u001b[0;34m(\u001b[0m\u001b[0;34m\"Grouper for '%s' not 1-dimensional\"\u001b[0m \u001b[0;34m%\u001b[0m \u001b[0mt\u001b[0m\u001b[0;34m)\u001b[0m\u001b[0;34m\u001b[0m\u001b[0m\n\u001b[0;32m-> 2420\u001b[0;31m                 \u001b[0mself\u001b[0m\u001b[0;34m.\u001b[0m\u001b[0mgrouper\u001b[0m \u001b[0;34m=\u001b[0m \u001b[0mself\u001b[0m\u001b[0;34m.\u001b[0m\u001b[0mindex\u001b[0m\u001b[0;34m.\u001b[0m\u001b[0mmap\u001b[0m\u001b[0;34m(\u001b[0m\u001b[0mself\u001b[0m\u001b[0;34m.\u001b[0m\u001b[0mgrouper\u001b[0m\u001b[0;34m)\u001b[0m\u001b[0;34m\u001b[0m\u001b[0m\n\u001b[0m\u001b[1;32m   2421\u001b[0m                 if not (hasattr(self.grouper, \"__len__\") and\n\u001b[1;32m   2422\u001b[0m                         len(self.grouper) == len(self.index)):\n",
      "\u001b[0;32m/home/liam/anaconda2/lib/python2.7/site-packages/pandas/core/indexes/base.pyc\u001b[0m in \u001b[0;36mmap\u001b[0;34m(self, mapper)\u001b[0m\n\u001b[1;32m   2725\u001b[0m         \"\"\"\n\u001b[1;32m   2726\u001b[0m         \u001b[0;32mfrom\u001b[0m \u001b[0;34m.\u001b[0m\u001b[0mmulti\u001b[0m \u001b[0;32mimport\u001b[0m \u001b[0mMultiIndex\u001b[0m\u001b[0;34m\u001b[0m\u001b[0m\n\u001b[0;32m-> 2727\u001b[0;31m         \u001b[0mmapped_values\u001b[0m \u001b[0;34m=\u001b[0m \u001b[0mself\u001b[0m\u001b[0;34m.\u001b[0m\u001b[0m_arrmap\u001b[0m\u001b[0;34m(\u001b[0m\u001b[0mself\u001b[0m\u001b[0;34m.\u001b[0m\u001b[0mvalues\u001b[0m\u001b[0;34m,\u001b[0m \u001b[0mmapper\u001b[0m\u001b[0;34m)\u001b[0m\u001b[0;34m\u001b[0m\u001b[0m\n\u001b[0m\u001b[1;32m   2728\u001b[0m         \u001b[0mattributes\u001b[0m \u001b[0;34m=\u001b[0m \u001b[0mself\u001b[0m\u001b[0;34m.\u001b[0m\u001b[0m_get_attributes_dict\u001b[0m\u001b[0;34m(\u001b[0m\u001b[0;34m)\u001b[0m\u001b[0;34m\u001b[0m\u001b[0m\n\u001b[1;32m   2729\u001b[0m         \u001b[0;32mif\u001b[0m \u001b[0mmapped_values\u001b[0m\u001b[0;34m.\u001b[0m\u001b[0msize\u001b[0m \u001b[0;32mand\u001b[0m \u001b[0misinstance\u001b[0m\u001b[0;34m(\u001b[0m\u001b[0mmapped_values\u001b[0m\u001b[0;34m[\u001b[0m\u001b[0;36m0\u001b[0m\u001b[0;34m]\u001b[0m\u001b[0;34m,\u001b[0m \u001b[0mtuple\u001b[0m\u001b[0;34m)\u001b[0m\u001b[0;34m:\u001b[0m\u001b[0;34m\u001b[0m\u001b[0m\n",
      "\u001b[0;32mpandas/_libs/algos_common_helper.pxi\u001b[0m in \u001b[0;36mpandas._libs.algos.arrmap_int64 (pandas/_libs/algos.c:41758)\u001b[0;34m()\u001b[0m\n",
      "\u001b[0;32m<ipython-input-184-72f11348942c>\u001b[0m in \u001b[0;36m<lambda>\u001b[0;34m(x)\u001b[0m\n\u001b[0;32m----> 1\u001b[0;31m \u001b[0mdata\u001b[0m\u001b[0;34m.\u001b[0m\u001b[0mgroupby\u001b[0m\u001b[0;34m(\u001b[0m\u001b[0;32mlambda\u001b[0m \u001b[0mx\u001b[0m \u001b[0;34m:\u001b[0m \u001b[0mx\u001b[0m\u001b[0;34m[\u001b[0m\u001b[0;34m'pc_code'\u001b[0m\u001b[0;34m]\u001b[0m\u001b[0;34m,\u001b[0m \u001b[0maxis\u001b[0m\u001b[0;34m=\u001b[0m\u001b[0;36m0\u001b[0m\u001b[0;34m)\u001b[0m\u001b[0;34m.\u001b[0m\u001b[0mcount\u001b[0m\u001b[0;34m(\u001b[0m\u001b[0;34m)\u001b[0m\u001b[0;34m\u001b[0m\u001b[0m\n\u001b[0m",
      "\u001b[0;31mTypeError\u001b[0m: 'int' object has no attribute '__getitem__'"
     ]
    }
   ],
   "source": [
    "data.groupby(lambda x : x['pc_code'], axis=0).count()"
   ]
  },
  {
   "cell_type": "code",
   "execution_count": 91,
   "metadata": {},
   "outputs": [
    {
     "name": "stdout",
     "output_type": "stream",
     "text": [
      "unit value range is [None 'Kgs' 'Ton' 'Ltr' 'Nos' 'Sqm']\n"
     ]
    }
   ],
   "source": [
    "print \"unit value range is \" + str(data['unit'].unique())"
   ]
  },
  {
   "cell_type": "code",
   "execution_count": 92,
   "metadata": {
    "scrolled": true
   },
   "outputs": [
    {
     "name": "stdout",
     "output_type": "stream",
     "text": [
      "country_code value range is [  599  1213  1395  1417  2035  2050  2057  2067  2069  2087  2141  2199\n",
      "  2241  2255  2257  2289  2345  2353  2399  2459  3011  3041  3053  3063\n",
      "  3085  3102  3115  3116  3117  3143  3149  3167  3169  3227  3229  3243\n",
      "  3249  3267  3269  3291  3339  3349  3355  3357  3363  3371  3385  3461\n",
      "  4005  4111  4231  4265  4365  4381  4407  4463  5059  5423  6015  6039\n",
      "  6043  6073  6083  6109  6317  6319  6427  6433  7012  7013  7020  7023\n",
      "  7029  7031  7105  7159  7171  7203  7373  7375  7379  7405  8091  8113\n",
      "  8165  8177  8287  9037  9045  9065  9093  9103  9161  9175  9253  9259\n",
      "  9277  9311  9331  9383  9439 10001 10017 10027 10038 10047 10056 10077\n",
      " 10089 10127 10179 10187 10189 10205 10214 10217 10223 10245 10252 10256\n",
      " 10258 10261 10273 10285 10309 10315 10323 10359 10361 10369 10397 10403\n",
      " 10437 10447 11025 11191 11207 11219 11225 11301 11335 11351 11391 11419\n",
      " 11453 12075 12133 12163 12195 12215 12239 12247 12281 12329 12401 12431\n",
      " 13019 13033 13101 13125 13129 13147 13155 13193 13197 13235 13262 13275\n",
      " 13327 13367 13387 13421 14185 14297 14389 15003 15016 15021 15040 15049\n",
      " 15055 15092 15098 15114 15145 15181 15212 15216 15224 15234 15240 15260\n",
      " 15325 15343 15344 15352 15354 15356 15358 15360 15393 15410 15422 15430\n",
      " 16095 16151 16251 16409 16233 10413  3347  5424  5377 10014 12131  7263\n",
      " 10294  9007 12443 16009  5157 16071  3061  9313 12295 10176  9411 10310\n",
      " 10271 13198 14121 10079 13346 12293  3135  9123     2  4382 12081 13034\n",
      "  9278 12321 14124]\n"
     ]
    }
   ],
   "source": [
    "print \"country_code value range is \" + str(data['country_code'].unique())"
   ]
  },
  {
   "cell_type": "code",
   "execution_count": 144,
   "metadata": {
    "scrolled": true
   },
   "outputs": [
    {
     "data": {
      "text/plain": [
       "<matplotlib.axes._subplots.AxesSubplot at 0x7f653bf8e210>"
      ]
     },
     "execution_count": 144,
     "metadata": {},
     "output_type": "execute_result"
    },
    {
     "data": {
      "image/png": "[encoded data removed]",
      "text/plain": [
       "<matplotlib.figure.Figure at 0x7f653c6d3b90>"
      ]
     },
     "metadata": {},
     "output_type": "display_data"
    }
   ],
   "source": [
    "sns.countplot(x='country_code', data=data)"
   ]
  },
  {
   "cell_type": "code",
   "execution_count": 74,
   "metadata": {
    "scrolled": true
   },
   "outputs": [
    {
     "name": "stdout",
     "output_type": "stream",
     "text": [
      "country_name value range is ['Afghanistan' 'Albania' 'Algeria' 'Ameri Samoa' 'Andorra' 'Angola'\n",
      " 'Anguilla' 'Antartica' 'Antigua' 'Argentina' 'Armenia' 'Aruba' 'Australia'\n",
      " 'Austria' 'Azerbaijan' 'Bahamas' 'Baharain Is' 'Bangladesh Pr' 'Barbados'\n",
      " 'Belarus' 'Belgium' 'Belize' 'Benin' 'Bermuda' 'Bhutan' 'Bolivia'\n",
      " 'Bosnia-Hrzgovin' 'Botswana' 'Br Virgn Is' 'Brazil' 'Brunei' 'Bulgaria'\n",
      " 'Burkina Faso' 'Burundi' 'C Afri Rep' 'Cambodia' 'Cameroon' 'Canada'\n",
      " 'Canary Is' 'Cape Verde Is' 'Cayman Is' 'Chad' 'Channel Is' 'Chile'\n",
      " 'China P Rp' 'Christmas Is.' 'Cocos Is' 'Colombia' 'Comoros'\n",
      " 'Congo D. Rep.' 'Congo P Rep' 'Cook Is' 'Costa Rica' \"Cote D' Ivoire\"\n",
      " 'Croatia' 'Cuba' 'Cyprus' 'Czech Republic' 'Denmark' 'Djibouti'\n",
      " 'Dominic Rep' 'Dominica' 'East Timor' 'Ecuador' 'Egypt A Rp' 'El Salvador'\n",
      " 'Equtl Guinea' 'Eritrea' 'Estonia' 'Ethiopia' 'Falkland Is' 'Faroe Is.'\n",
      " 'Fiji Is' 'Finland' 'Fr Guiana' 'Fr Polynesia' 'Fr S Ant Tr' 'France'\n",
      " 'Gabon' 'Gambia' 'Georgia' 'Germany' 'Ghana' 'Gibraltar' 'Greece'\n",
      " 'Greenland' 'Grenada' 'Guadeloupe' 'Guam' 'Guatemala' 'Guernsey' 'Guinea'\n",
      " 'Guinea Bissau' 'Guyana' 'Haiti' 'Heard Macdonald' 'Honduras' 'Hong Kong'\n",
      " 'Hungary' 'Iceland' 'Indonesia' 'Installations In International Waters'\n",
      " 'Iran' 'Iraq' 'Ireland' 'Israel' 'Italy' 'Jamaica' 'Japan' 'Jordan'\n",
      " 'Kazakhstan' 'Kenya' 'Kiribati Rep' 'Korea Dp Rp' 'Korea Rp' 'Kuwait'\n",
      " 'Kyrghyzstan' 'Lao Pd Rp' 'Latvia' 'Lebanon' 'Lesotho' 'Liberia' 'Libya'\n",
      " 'Liechtenstein' 'Lithuania' 'Luxembourg' 'Macao' 'Macedonia' 'Madagascar'\n",
      " 'Malawi' 'Malaysia' 'Maldives' 'Mali' 'Malta' 'Marshall Island'\n",
      " 'Martinique' 'Mauritania' 'Mauritius' 'Mayotte' 'Mexico' 'Micronesia'\n",
      " 'Moldova' 'Monaco' 'Mongolia' 'Montenegro' 'Montserrat' 'Morocco'\n",
      " 'Mozambique' 'Myanmar' 'N. Mariana Is.' 'Namibia' 'Nauru Rp' 'Nepal'\n",
      " 'Netherland' 'Netherlandantil' 'New Caledonia' 'New Zealand' 'Nicaragua'\n",
      " 'Niger' 'Nigeria' 'Niue Is' 'Norfolk Is' 'Norway' 'Oman' 'Pakistan Ir'\n",
      " 'Palau' 'Panama C Z' 'Panama Republic' 'Papua N Gna' 'Paraguay' 'Peru'\n",
      " 'Philippines' 'Pitcairn Is.' 'Poland' 'Portugal' 'Puerto Rico' 'Qatar'\n",
      " 'Reunion' 'Romania' 'Russia' 'Rwanda' 'Saharwi A.Dm Rp' 'Samoa'\n",
      " 'San Marino' 'Sao Tome' 'Saudi Arab' 'Senegal' 'Serbia' 'Serbia Montngro'\n",
      " 'Seychelles' 'Sierra Leone' 'Singapore' 'Sint Maarten (Dutch Part)'\n",
      " 'Slovak Rep' 'Slovenia' 'Solomon Is' 'Somalia' 'South Africa'\n",
      " 'South Sudan' 'Spain' 'Sri Lanka Dsr' 'St Helena' 'St Kitt N A' 'St Lucia'\n",
      " 'St Pierre' 'St Vincent' 'Sudan' 'Suriname' 'Swaziland' 'Sweden'\n",
      " 'Switzerland' 'Syria' 'Taiwan' 'Tajikistan' 'Tanzania Rep' 'Thailand'\n",
      " 'Timor-Leste' 'Togo' 'Tokelau Is' 'Tonga' 'Trinidad' 'Tunisia' 'Turkey'\n",
      " 'Turkmenistan' 'Turks C Is' 'Tuvalu' 'U Arab Emts' 'U K' 'U S A' 'Uganda'\n",
      " 'Ukraine' 'Unspecified' 'Uruguay' 'Us Minor Outlying Islands' 'Uzbekistan'\n",
      " 'Vanuatu Rep' 'Vatican City' 'Venezuela' 'Vietnam Soc Rep' 'Virgin Is Us'\n",
      " 'Wallis F Is' 'Yemen Republc' 'Zambia' 'Zimbabwe']\n"
     ]
    }
   ],
   "source": [
    "print \"country_name value range is \" + str(np.sort(data['country_name'].unique()))"
   ]
  },
  {
   "cell_type": "code",
   "execution_count": 162,
   "metadata": {},
   "outputs": [
    {
     "name": "stdout",
     "output_type": "stream",
     "text": [
      "country_code  country_name                         \n",
      "5423          U S A                                    936\n",
      "10077         China P Rp                               908\n",
      "13147         Germany                                  902\n",
      "13421         U K                                      888\n",
      "11419         U Arab Emts                              888\n",
      "13197         Italy                                    884\n",
      "10397         Thailand                                 862\n",
      "13129         France                                   860\n",
      "10205         Japan                                    860\n",
      "10245         Malaysia                                 859\n",
      "13275         Netherland                               856\n",
      "10217         Korea Rp                                 852\n",
      "10359         Singapore                                850\n",
      "10017         Australia                                839\n",
      "5059          Canada                                   836\n",
      "13367         Spain                                    836\n",
      "10187         Indonesia                                819\n",
      "13033         Belgium                                  817\n",
      "16409         Turkey                                   817\n",
      "4365          South Africa                             812\n",
      "10437         Vietnam Soc Rep                          799\n",
      "12075         Taiwan                                   799\n",
      "10369         Sri Lanka Dsr                            793\n",
      "10179         Hong Kong                                792\n",
      "10027         Bangladesh Pr                            772\n",
      "15325         Poland                                   764\n",
      "14389         Switzerland                              761\n",
      "10323         Philippines                              742\n",
      "10273         Nepal                                    741\n",
      "15344         Russia                                   737\n",
      "                                                      ... \n",
      "10256         Micronesia                                30\n",
      "3371          St Helena                                 29\n",
      "10089         Cook Is                                   28\n",
      "12295         Norfolk Is                                28\n",
      "10014         Antartica                                 26\n",
      "10271         Nauru Rp                                  26\n",
      "4382          South Sudan                               24\n",
      "10294         N. Mariana Is.                            19\n",
      "10413         Tuvalu                                    18\n",
      "10310         Palau                                     17\n",
      "3347          Saharwi A.Dm Rp                           16\n",
      "5157          Greenland                                 15\n",
      "10079         Christmas Is.                             13\n",
      "13198         Vatican City                              11\n",
      "12401         Tokelau Is                                11\n",
      "12443         Wallis F Is                               11\n",
      "9313          Panama C Z                                10\n",
      "12321         Pitcairn Is.                               8\n",
      "13034         Mayotte                                    7\n",
      "12293         Niue Is                                    6\n",
      "5377          St Pierre                                  4\n",
      "9123          Falkland Is                                3\n",
      "3135          Fr S Ant Tr                                2\n",
      "10176         Heard Macdonald                            2\n",
      "9278          Sint Maarten (Dutch Part)                  2\n",
      "2             Installations In International Waters      2\n",
      "3061          Canary Is                                  1\n",
      "14124         Guernsey                                   1\n",
      "16071         Channel Is                                 1\n",
      "12081         Cocos Is                                   1\n",
      "Name: country_code, Length: 244, dtype: int64\n"
     ]
    }
   ],
   "source": [
    "coutry_count = data.groupby(['country_code', 'country_name'])['country_code'].count()\\\n",
    "    .sort_values(ascending=False)\n",
    "print coutry_count"
   ]
  },
  {
   "cell_type": "markdown",
   "metadata": {},
   "source": [
    "*value* is numerical"
   ]
  },
  {
   "cell_type": "code",
   "execution_count": 90,
   "metadata": {},
   "outputs": [
    {
     "data": {
      "text/plain": [
       "<matplotlib.axes._subplots.AxesSubplot at 0x7f65426fde90>"
      ]
     },
     "execution_count": 90,
     "metadata": {},
     "output_type": "execute_result"
    },
    {
     "data": {
      "image/png": "[encoded data removed]",
      "text/plain": [
       "<matplotlib.figure.Figure at 0x7f65427200d0>"
      ]
     },
     "metadata": {},
     "output_type": "display_data"
    }
   ],
   "source": [
    "sns.distplot(data['value'])"
   ]
  },
  {
   "cell_type": "markdown",
   "metadata": {},
   "source": [
    "the distribution of *value* has a long tail. It is better to take a close look."
   ]
  },
  {
   "cell_type": "code",
   "execution_count": 94,
   "metadata": {},
   "outputs": [
    {
     "data": {
      "text/plain": [
       "count    91440.000000\n",
       "mean        22.539043\n",
       "std        261.854831\n",
       "min          0.000000\n",
       "25%          0.023301\n",
       "50%          0.301480\n",
       "75%          3.212839\n",
       "max      21803.395420\n",
       "Name: value, dtype: float64"
      ]
     },
     "execution_count": 94,
     "metadata": {},
     "output_type": "execute_result"
    }
   ],
   "source": [
    "data['value'].describe()"
   ]
  },
  {
   "cell_type": "code",
   "execution_count": 101,
   "metadata": {},
   "outputs": [
    {
     "data": {
      "text/plain": [
       "<matplotlib.axes._subplots.AxesSubplot at 0x7f6541cb7d50>"
      ]
     },
     "execution_count": 101,
     "metadata": {},
     "output_type": "execute_result"
    },
    {
     "data": {
      "image/png": "[encoded data removed]",
      "text/plain": [
       "<matplotlib.figure.Figure at 0x7f65594c82d0>"
      ]
     },
     "metadata": {},
     "output_type": "display_data"
    }
   ],
   "source": [
    "# only for the value less than 5 million USD\n",
    "sns.distplot(data[data['value'] < 5]['value'], bins=200)"
   ]
  },
  {
   "cell_type": "code",
   "execution_count": 121,
   "metadata": {},
   "outputs": [
    {
     "data": {
      "text/plain": [
       "<matplotlib.axes._subplots.AxesSubplot at 0x7f653ec4ecd0>"
      ]
     },
     "execution_count": 121,
     "metadata": {},
     "output_type": "execute_result"
    },
    {
     "data": {
      "image/png": "[encoded data removed]",
      "text/plain": [
       "<matplotlib.figure.Figure at 0x7f653eb9dfd0>"
      ]
     },
     "metadata": {},
     "output_type": "display_data"
    }
   ],
   "source": [
    "# only for the value less than 1 million USD but greater than 0.1 million\n",
    "sns.distplot(data[(data['value'] <= 1) & (data['value'] >= 0.001)]['value'], bins=100)"
   ]
  },
  {
   "cell_type": "code",
   "execution_count": 112,
   "metadata": {},
   "outputs": [
    {
     "data": {
      "text/plain": [
       "14"
      ]
     },
     "execution_count": 112,
     "metadata": {},
     "output_type": "execute_result"
    }
   ],
   "source": [
    "sum(data['value'] == 0)"
   ]
  },
  {
   "cell_type": "code",
   "execution_count": 124,
   "metadata": {},
   "outputs": [
    {
     "data": {
      "text/plain": [
       "<matplotlib.axes._subplots.AxesSubplot at 0x7f653e4cd450>"
      ]
     },
     "execution_count": 124,
     "metadata": {},
     "output_type": "execute_result"
    },
    {
     "data": {
      "image/png": "[encoded data removed]",
      "text/plain": [
       "<matplotlib.figure.Figure at 0x7f653e745590>"
      ]
     },
     "metadata": {},
     "output_type": "display_data"
    }
   ],
   "source": [
    "# only for the value less than 0.01 million USD but greater than 0.0 million\n",
    "sns.distplot(data[(data['value'] <= 0.0008)]['value'], bins=10)"
   ]
  },
  {
   "cell_type": "code",
   "execution_count": 123,
   "metadata": {},
   "outputs": [
    {
     "data": {
      "text/html": [
       "<div>\n",
       "<style>\n",
       "    .dataframe thead tr:only-child th {\n",
       "        text-align: right;\n",
       "    }\n",
       "\n",
       "    .dataframe thead th {\n",
       "        text-align: left;\n",
       "    }\n",
       "\n",
       "    .dataframe tbody tr th {\n",
       "        vertical-align: top;\n",
       "    }\n",
       "</style>\n",
       "<table border=\"1\" class=\"dataframe\">\n",
       "  <thead>\n",
       "    <tr style=\"text-align: right;\">\n",
       "      <th></th>\n",
       "      <th>pc_code</th>\n",
       "      <th>pc_description</th>\n",
       "      <th>unit</th>\n",
       "      <th>country_code</th>\n",
       "      <th>country_name</th>\n",
       "      <th>quantity</th>\n",
       "      <th>value</th>\n",
       "      <th>year</th>\n",
       "      <th>trade</th>\n",
       "    </tr>\n",
       "  </thead>\n",
       "  <tbody>\n",
       "    <tr>\n",
       "      <th>19622</th>\n",
       "      <td>R3</td>\n",
       "      <td>Handloom Products</td>\n",
       "      <td>None</td>\n",
       "      <td>3227</td>\n",
       "      <td>Lesotho</td>\n",
       "      <td>NaN</td>\n",
       "      <td>0.000244</td>\n",
       "      <td>2014</td>\n",
       "      <td>Export</td>\n",
       "    </tr>\n",
       "    <tr>\n",
       "      <th>46801</th>\n",
       "      <td>H4</td>\n",
       "      <td>Ayush And Herbal Products</td>\n",
       "      <td>Kgs</td>\n",
       "      <td>15356</td>\n",
       "      <td>Montenegro</td>\n",
       "      <td>25.0</td>\n",
       "      <td>0.000122</td>\n",
       "      <td>2016</td>\n",
       "      <td>Export</td>\n",
       "    </tr>\n",
       "    <tr>\n",
       "      <th>85814</th>\n",
       "      <td>N7</td>\n",
       "      <td>Atm, Injctng Mlding Mchnry Etc</td>\n",
       "      <td>None</td>\n",
       "      <td>7263</td>\n",
       "      <td>Montserrat</td>\n",
       "      <td>NaN</td>\n",
       "      <td>0.000121</td>\n",
       "      <td>2015</td>\n",
       "      <td>Export</td>\n",
       "    </tr>\n",
       "    <tr>\n",
       "      <th>65535</th>\n",
       "      <td>K4</td>\n",
       "      <td>Optical Items (Incl.Lens Etc)</td>\n",
       "      <td>None</td>\n",
       "      <td>8165</td>\n",
       "      <td>Guatemala</td>\n",
       "      <td>NaN</td>\n",
       "      <td>0.000279</td>\n",
       "      <td>2014</td>\n",
       "      <td>Import</td>\n",
       "    </tr>\n",
       "    <tr>\n",
       "      <th>14216</th>\n",
       "      <td>N2</td>\n",
       "      <td>Bicycle And Parts</td>\n",
       "      <td>None</td>\n",
       "      <td>3385</td>\n",
       "      <td>Swaziland</td>\n",
       "      <td>NaN</td>\n",
       "      <td>0.000045</td>\n",
       "      <td>2014</td>\n",
       "      <td>Export</td>\n",
       "    </tr>\n",
       "  </tbody>\n",
       "</table>\n",
       "</div>"
      ],
      "text/plain": [
       "      pc_code                  pc_description  unit  country_code  \\\n",
       "19622      R3               Handloom Products  None          3227   \n",
       "46801      H4       Ayush And Herbal Products   Kgs         15356   \n",
       "85814      N7  Atm, Injctng Mlding Mchnry Etc  None          7263   \n",
       "65535      K4   Optical Items (Incl.Lens Etc)  None          8165   \n",
       "14216      N2               Bicycle And Parts  None          3385   \n",
       "\n",
       "      country_name  quantity     value  year   trade  \n",
       "19622      Lesotho       NaN  0.000244  2014  Export  \n",
       "46801   Montenegro      25.0  0.000122  2016  Export  \n",
       "85814   Montserrat       NaN  0.000121  2015  Export  \n",
       "65535    Guatemala       NaN  0.000279  2014  Import  \n",
       "14216    Swaziland       NaN  0.000045  2014  Export  "
      ]
     },
     "execution_count": 123,
     "metadata": {},
     "output_type": "execute_result"
    }
   ],
   "source": [
    "data[(data['value'] <= 0.0005)].sample(n = 5)"
   ]
  },
  {
   "cell_type": "code",
   "execution_count": 134,
   "metadata": {},
   "outputs": [
    {
     "name": "stdout",
     "output_type": "stream",
     "text": [
      "thera are 30414 records of 2014\n",
      "thera are 30488 records of 2015\n",
      "thera are 30538 records of 2016\n"
     ]
    }
   ],
   "source": [
    "print \"thera are {} records of 2014\".format(data[data['year'] == '2014'].shape[0])\n",
    "print \"thera are {} records of 2015\".format(data[data['year'] == '2015'].shape[0])\n",
    "print \"thera are {} records of 2016\".format(data[data['year'] == '2016'].shape[0])"
   ]
  },
  {
   "cell_type": "code",
   "execution_count": 135,
   "metadata": {},
   "outputs": [
    {
     "name": "stdout",
     "output_type": "stream",
     "text": [
      "thera are 62445 records of export\n",
      "thera are 28995 records of import\n"
     ]
    }
   ],
   "source": [
    "print \"thera are {} records of export\".format(data[data['trade'] == 'Export'].shape[0])\n",
    "print \"thera are {} records of import\".format(data[data['trade'] == 'Import'].shape[0])"
   ]
  },
  {
   "cell_type": "markdown",
   "metadata": {},
   "source": [
    "Most Principal Commodity value are less than USD(1,000,000 * 0.0001 = 100)."
   ]
  },
  {
   "cell_type": "markdown",
   "metadata": {},
   "source": [
    "### create a dict of pc_code and pc_description"
   ]
  },
  {
   "cell_type": "code",
   "execution_count": 79,
   "metadata": {
    "collapsed": true
   },
   "outputs": [],
   "source": [
    "pc_dict = {x[1]['pc_code'] : x[1]['pc_description'] for x in data.iterrows()}"
   ]
  },
  {
   "cell_type": "code",
   "execution_count": 82,
   "metadata": {},
   "outputs": [
    {
     "name": "stdout",
     "output_type": "stream",
     "text": [
      "S2 is Carpet(Excl. Silk) Handmade\n",
      "L5 is Aluminium, Products Of Aluminm\n"
     ]
    }
   ],
   "source": [
    "print \"S2 is \" + pc_dict[\"S2\"]\n",
    "print \"L5 is \" + pc_dict[\"L5\"]"
   ]
  },
  {
   "cell_type": "code",
   "execution_count": 171,
   "metadata": {
    "collapsed": true
   },
   "outputs": [],
   "source": [
    "def print_pc_code_family(f):\n",
    "    print f + \" family: \"\n",
    "    print [pc_dict[x] for x in pc_dict.keys() if x.startswith(f)]"
   ]
  },
  {
   "cell_type": "code",
   "execution_count": 174,
   "metadata": {},
   "outputs": [
    {
     "name": "stdout",
     "output_type": "stream",
     "text": [
      "A family: \n",
      "['Tea', 'Rice -Basmoti', 'Coffee', 'Wheat', 'Rice(Other Than Basmoti)', 'Pulses', 'Other Cereals', 'Tobacco Manufactured', 'Tobacco Unmanufactured']\n",
      "B family: \n",
      "['Sesame Seeds', 'Niger Seeds', 'Groundnut', 'Other Oil Seeds', 'Spices', 'Cashew', 'Cashew Nut Shell Liquid', 'Vegetable Oils', 'Oil Meals']\n",
      "C family: \n",
      "['Processed Vegetables', 'Fresh Vegetables', 'Shellac', 'Castor Oil', 'Guergam Meal', 'Fresh Fruits', 'Fruits / Vegetable Seeds', 'Mollases', 'Sugar']\n",
      "D family: \n",
      "['Sheep/Goat Meat', 'Other Meat', 'Animal Casings', 'Buffalo Meat', 'Milled Products', 'Misc Processed Items', 'Cereal Preparations', 'Cocoa Products', 'Processed Fruits And Juices']\n",
      "E family: \n",
      "['Mica', 'Iron Ore', 'Natural Rubber', 'Floricltr Products', 'Marine Products', 'Alcoholic Beverages', 'Processed Meat', 'Poultry Products', 'Dairy Products']\n",
      "F family: \n",
      "['Coal,Coke And Briquittes Etc', 'Bulk Minerals And Ores', 'Granit, Natrl Stone And Prodct', 'Processed Minerals', 'Sulpher, Unroasted Iron Pyrite', 'Other Crude Minerals', 'Raw Hides And Skins', 'Finished Leather', 'Leather Goods']\n",
      "G family: \n",
      "['Silver', 'Gold', 'Pearl, Precs, Semiprecs Stones', 'Saddlery And Harness', 'Leather Footwear Component', 'Footwear Of Leather', 'Leather Garments', 'Gold And Oth Precs Metl Jwlery', 'Other Precious And Base Metals']\n",
      "H family: \n",
      "['Drug Formulations, Biologicals', 'Agro Chemicals', 'Fertilezers Crude', 'Fertilezers Manufactured', 'Sports Goods', 'Dye Intermediates', 'Dyes', 'Ayush And Herbal Products', 'Bulk Drugs, Drug Intermediates']\n",
      "I family: \n",
      "['Othr Rubber Prodct Excpt Footw', 'Auto Tyres And Tubes', 'Surgicals', 'Organic Chemicals', 'Inorganic Chemicals', 'Cosmetics And Toiletries', 'Other Miscellaenious Chemicals', 'Residul Chemicl And Alled Prod', 'Essential Oils']\n",
      "J family: \n",
      "['Newsprint', 'Paper, Paper Board And Product', 'Cmnt, Clinkr And Asbstos Cmnt', 'Ceramics And Allied Products', 'Glass And Glassware', 'Books, Publications And Prntng', 'Footwear Of Rubber/Canvas Etc.', 'Paint, Varnish And Allid Prodc', 'Graphite, Explsivs And Accesor']\n",
      "K family: \n",
      "['Pulp And Waste Paper', 'Other Wood And Wood Products', 'Plywood And Allied Products', 'Packaging Materials', 'Moulded And Extruded Goods', 'Human Hair, Products Thereo', 'Optical Items (Incl.Lens Etc)', 'Plastc Sht, Film, Plts Etc', 'Plastic Raw Materials']\n",
      "L family: \n",
      "['Copper And Prdcts Made Of Copr', 'Lead And Products Made Of Led', 'Products Of Iron And Steel', 'Aluminium, Products Of Aluminm', 'Other Plastic Items', 'Iron And Steel', 'Stationry/Offce, School Supply', 'Nickel, Product Made Of Nickel', 'Tin And Products Made Of Tin']\n",
      "M family: \n",
      "['Accumulators And Batteries', 'Electrodes', 'Machine Tools', 'Hnd Tool, Cttng Tool Of Metals', 'Zinc And Products Made Of Zinc', 'Auto Components/Parts', 'Oth Non Ferous Metal And Prodc', 'Office Equipments', 'Medical And Scientific Instrum']\n",
      "N family: \n",
      "['Other Construction Machinery', 'Ac, Refrigeration Machnry Etc', 'Bicycle And Parts', 'Cranes, Lifts And Winches', 'Electric Machinery And Equipme', 'Ic Engines And Parts', 'Indl. Machnry For Dairy Etc', 'Atm, Injctng Mlding Mchnry Etc', 'Nucler Reactr, Indl Boilr, Prt']\n",
      "O family: \n",
      "['Computer Hardware, Peripherals', 'Two And Three Wheelers', 'Ship, Boat And Floating Struct', 'Railwy Trnsprt Equipmnts, Prts', 'Motor Vehicle/Cars', 'Aircraft, Spacecraft And Parts', 'Pumps Of All Types', 'Prime Mica And Mica Products', 'Other Misc. Engineering Items']\n",
      "P family: \n",
      "['Electronics Components', 'Electronics Instruments', 'Consumer Electronics', 'Manmade Staple Fibre', 'Cotton Yarn', 'Telecom Instruments', 'Project Goods', 'Cotton Fabrics, Madeups Etc.', 'Oth Txtl Yrn, Fbric Mdup Artcl']\n",
      "Q family: \n",
      "['Silk,Raw', 'Manmade Yarn,Fabrics,Madeups', 'Natrl Silk Yarn,Fabrics,Madeup', 'Wollen Yarn,Fabrics,Madeupsetc', 'Wool, Raw', 'Rmg Silk', 'Rmg Cotton Incl Accessories', 'Rmg Wool', 'Rmg Manmade Fibres']\n",
      "R family: \n",
      "['Silk Waste', 'Jute, Raw', 'Jute Yarn', 'Jute Hessian', 'Rmg Of Othr Textle Matrl', 'Coir And Coir Manufactures', 'Handloom Products', 'Floor Cvrng Of Jute', 'Other Jute Manufactures']\n",
      "S family: \n",
      "['Silk Carpet', 'Carpet(Excl. Silk) Handmade', 'Handcrfs(Excl.Handmade Crpts)', 'Petroleum Products', 'Petroleum: Crude', 'Cotton Raw Incld. Waste']\n",
      "T family: \n",
      "[]\n",
      "U family: \n",
      "[]\n",
      "V family: \n",
      "[]\n",
      "W family: \n",
      "[]\n",
      "X family: \n",
      "[]\n",
      "Y family: \n",
      "[]\n",
      "Z family: \n",
      "[]\n"
     ]
    }
   ],
   "source": [
    "import string\n",
    "t = map(print_pc_code_family, string.ascii_uppercase)"
   ]
  },
  {
   "cell_type": "markdown",
   "metadata": {},
   "source": [
    "### create a dict of country_name and coutry_code"
   ]
  },
  {
   "cell_type": "code",
   "execution_count": 80,
   "metadata": {},
   "outputs": [],
   "source": [
    "country_dict = {x[1]['country_code'] : x[1]['country_name'] for x in data.iterrows()}"
   ]
  },
  {
   "cell_type": "code",
   "execution_count": 81,
   "metadata": {},
   "outputs": [
    {
     "name": "stdout",
     "output_type": "stream",
     "text": [
      "13421 is U K\n",
      "4381 is Sudan\n"
     ]
    }
   ],
   "source": [
    "print \"13421 is \" + country_dict[13421]\n",
    "print \"4381 is \" + country_dict[4381]"
   ]
  },
  {
   "cell_type": "markdown",
   "metadata": {},
   "source": [
    "### Multivariate"
   ]
  },
  {
   "cell_type": "code",
   "execution_count": null,
   "metadata": {
    "collapsed": true
   },
   "outputs": [],
   "source": []
  }
 ],
 "metadata": {
  "kernelspec": {
   "display_name": "Python 2",
   "language": "python",
   "name": "python2"
  },
  "language_info": {
   "codemirror_mode": {
    "name": "ipython",
    "version": 2
   },
   "file_extension": ".py",
   "mimetype": "text/x-python",
   "name": "python",
   "nbconvert_exporter": "python",
   "pygments_lexer": "ipython2",
   "version": "2.7.13"
  }
 },
 "nbformat": 4,
 "nbformat_minor": 2
}
